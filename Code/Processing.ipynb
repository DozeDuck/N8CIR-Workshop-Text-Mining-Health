{
 "cells": [
  {
   "cell_type": "markdown",
   "id": "a71b0ab4",
   "metadata": {
    "toc": true
   },
   "source": [
    "<h1>Table of Contents<span class=\"tocSkip\"></span></h1>\n",
    "<div class=\"toc\"><ul class=\"toc-item\"><li><span><a href=\"#Import-required-modules\" data-toc-modified-id=\"Import-required-modules-1\"><span class=\"toc-item-num\">1&nbsp;&nbsp;</span>Import required modules</a></span></li><li><span><a href=\"#Pre-processing\" data-toc-modified-id=\"Pre-processing-2\"><span class=\"toc-item-num\">2&nbsp;&nbsp;</span>Pre-processing</a></span></li></ul></div>"
   ]
  },
  {
   "cell_type": "markdown",
   "id": "7f30be0c",
   "metadata": {},
   "source": [
    "# Processing"
   ]
  },
  {
   "cell_type": "markdown",
   "id": "84b63b2f",
   "metadata": {},
   "source": [
    "## Import required modules"
   ]
  },
  {
   "cell_type": "code",
   "execution_count": 2,
   "id": "b624c7d9",
   "metadata": {},
   "outputs": [],
   "source": [
    "# !pip install nltk\n",
    "# !pip install xlrd"
   ]
  },
  {
   "cell_type": "code",
   "execution_count": 5,
   "id": "375bf94f",
   "metadata": {},
   "outputs": [],
   "source": [
    "import os\n",
    "# provides functions for interacting with underlying operating system\n",
    "# e.g. change working directory, locate files\n",
    "\n",
    "from nltk import word_tokenize\n",
    " # nltk stands for natural language tool kit and is useful for text-mining\n",
    "    \n",
    "import re\n",
    "# re is for regular expressions, which we use later \n",
    "\n",
    "import pandas as pd\n",
    "# includes useful functions for manipulating data \n",
    "\n",
    "import xlrd\n",
    "# we also need xlrd to read the .xls file because pandas is not old school"
   ]
  },
  {
   "cell_type": "code",
   "execution_count": 15,
   "id": "347af3c7",
   "metadata": {},
   "outputs": [],
   "source": [
    "# Read-in the csv we created in the previous notebook\n",
    "df = pd.read_csv ('Data/text.csv')"
   ]
  },
  {
   "cell_type": "code",
   "execution_count": 16,
   "id": "6aa67d1e",
   "metadata": {},
   "outputs": [
    {
     "data": {
      "text/html": [
       "<div>\n",
       "<style scoped>\n",
       "    .dataframe tbody tr th:only-of-type {\n",
       "        vertical-align: middle;\n",
       "    }\n",
       "\n",
       "    .dataframe tbody tr th {\n",
       "        vertical-align: top;\n",
       "    }\n",
       "\n",
       "    .dataframe thead th {\n",
       "        text-align: right;\n",
       "    }\n",
       "</style>\n",
       "<table border=\"1\" class=\"dataframe\">\n",
       "  <thead>\n",
       "    <tr style=\"text-align: right;\">\n",
       "      <th></th>\n",
       "      <th>Unnamed: 0</th>\n",
       "      <th>0</th>\n",
       "      <th>1</th>\n",
       "    </tr>\n",
       "  </thead>\n",
       "  <tbody>\n",
       "    <tr>\n",
       "      <th>0</th>\n",
       "      <td>0</td>\n",
       "      <td>5407int26.rtf</td>\n",
       "      <td>\\nDate of Interview: 01/03/02\\n\\nInformation a...</td>\n",
       "    </tr>\n",
       "    <tr>\n",
       "      <th>1</th>\n",
       "      <td>1</td>\n",
       "      <td>5407int32.rtf</td>\n",
       "      <td>\\nDate of Interview: 04/02/02\\n\\nInformation a...</td>\n",
       "    </tr>\n",
       "    <tr>\n",
       "      <th>2</th>\n",
       "      <td>2</td>\n",
       "      <td>5407diary43.rtf</td>\n",
       "      <td>\\nInformation about diarist\\nDate of birth: 19...</td>\n",
       "    </tr>\n",
       "    <tr>\n",
       "      <th>3</th>\n",
       "      <td>3</td>\n",
       "      <td>5407diary42.rtf</td>\n",
       "      <td>\\nInformation about diarist\\nDate of birth: 19...</td>\n",
       "    </tr>\n",
       "    <tr>\n",
       "      <th>4</th>\n",
       "      <td>4</td>\n",
       "      <td>5407int27.rtf</td>\n",
       "      <td>\\nDate of Interview: 04/02/02\\n\\nInformation a...</td>\n",
       "    </tr>\n",
       "    <tr>\n",
       "      <th>5</th>\n",
       "      <td>5</td>\n",
       "      <td>5407int19.rtf</td>\n",
       "      <td>\\nDate of Interview: 23/02/02\\n\\nInformation a...</td>\n",
       "    </tr>\n",
       "    <tr>\n",
       "      <th>6</th>\n",
       "      <td>6</td>\n",
       "      <td>5407int31.rtf</td>\n",
       "      <td>\\nDate of Interview: 04/02/02\\n\\nInformation a...</td>\n",
       "    </tr>\n",
       "    <tr>\n",
       "      <th>7</th>\n",
       "      <td>7</td>\n",
       "      <td>5407diary40.rtf</td>\n",
       "      <td>\\nInformation about diarist\\nDate of birth: 19...</td>\n",
       "    </tr>\n",
       "    <tr>\n",
       "      <th>8</th>\n",
       "      <td>8</td>\n",
       "      <td>5407diary54.rtf</td>\n",
       "      <td>\\nInformation about diarist\\nDate of birth: 19...</td>\n",
       "    </tr>\n",
       "    <tr>\n",
       "      <th>9</th>\n",
       "      <td>9</td>\n",
       "      <td>5407diary55.rtf</td>\n",
       "      <td>\\nInformation about diarist\\nDate of birth: 19...</td>\n",
       "    </tr>\n",
       "  </tbody>\n",
       "</table>\n",
       "</div>"
      ],
      "text/plain": [
       "   Unnamed: 0                0  \\\n",
       "0           0    5407int26.rtf   \n",
       "1           1    5407int32.rtf   \n",
       "2           2  5407diary43.rtf   \n",
       "3           3  5407diary42.rtf   \n",
       "4           4    5407int27.rtf   \n",
       "5           5    5407int19.rtf   \n",
       "6           6    5407int31.rtf   \n",
       "7           7  5407diary40.rtf   \n",
       "8           8  5407diary54.rtf   \n",
       "9           9  5407diary55.rtf   \n",
       "\n",
       "                                                   1  \n",
       "0  \\nDate of Interview: 01/03/02\\n\\nInformation a...  \n",
       "1  \\nDate of Interview: 04/02/02\\n\\nInformation a...  \n",
       "2  \\nInformation about diarist\\nDate of birth: 19...  \n",
       "3  \\nInformation about diarist\\nDate of birth: 19...  \n",
       "4  \\nDate of Interview: 04/02/02\\n\\nInformation a...  \n",
       "5  \\nDate of Interview: 23/02/02\\n\\nInformation a...  \n",
       "6  \\nDate of Interview: 04/02/02\\n\\nInformation a...  \n",
       "7  \\nInformation about diarist\\nDate of birth: 19...  \n",
       "8  \\nInformation about diarist\\nDate of birth: 19...  \n",
       "9  \\nInformation about diarist\\nDate of birth: 19...  "
      ]
     },
     "execution_count": 16,
     "metadata": {},
     "output_type": "execute_result"
    }
   ],
   "source": [
    "# Let's view the first 10 rows of the dataset\n",
    "df.head(10)"
   ]
  },
  {
   "cell_type": "markdown",
   "id": "dc78e415",
   "metadata": {},
   "source": [
    "## Pre-processing\n",
    "\n",
    "Data Preprocessing is a technique which is used to convert the raw data set into a clean data set. In other words, whenever the data is collected from different sources it is collected in raw format which is not feasible for the analysis.\n",
    "\n",
    "Hence, certain steps are followed and executed in order to convert the data into a small and clean data set."
   ]
  },
  {
   "cell_type": "code",
   "execution_count": null,
   "id": "07958d21",
   "metadata": {},
   "outputs": [],
   "source": [
    "# Let's rename our columns with something more intelligible "
   ]
  }
 ],
 "metadata": {
  "kernelspec": {
   "display_name": "Python 3 (ipykernel)",
   "language": "python",
   "name": "python3"
  },
  "language_info": {
   "codemirror_mode": {
    "name": "ipython",
    "version": 3
   },
   "file_extension": ".py",
   "mimetype": "text/x-python",
   "name": "python",
   "nbconvert_exporter": "python",
   "pygments_lexer": "ipython3",
   "version": "3.8.13"
  },
  "toc": {
   "base_numbering": 1,
   "nav_menu": {},
   "number_sections": true,
   "sideBar": true,
   "skip_h1_title": true,
   "title_cell": "Table of Contents",
   "title_sidebar": "Contents",
   "toc_cell": true,
   "toc_position": {},
   "toc_section_display": true,
   "toc_window_display": true
  },
  "varInspector": {
   "cols": {
    "lenName": 16,
    "lenType": 16,
    "lenVar": 40
   },
   "kernels_config": {
    "python": {
     "delete_cmd_postfix": "",
     "delete_cmd_prefix": "del ",
     "library": "var_list.py",
     "varRefreshCmd": "print(var_dic_list())"
    },
    "r": {
     "delete_cmd_postfix": ") ",
     "delete_cmd_prefix": "rm(",
     "library": "var_list.r",
     "varRefreshCmd": "cat(var_dic_list()) "
    }
   },
   "types_to_exclude": [
    "module",
    "function",
    "builtin_function_or_method",
    "instance",
    "_Feature"
   ],
   "window_display": false
  }
 },
 "nbformat": 4,
 "nbformat_minor": 5
}
